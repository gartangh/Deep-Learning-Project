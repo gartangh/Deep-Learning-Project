{
 "cells": [
  {
   "cell_type": "markdown",
   "metadata": {},
   "source": [
    "# imports"
   ]
  },
  {
   "cell_type": "code",
   "execution_count": 1,
   "metadata": {},
   "outputs": [],
   "source": [
    "import numpy as np"
   ]
  },
  {
   "cell_type": "markdown",
   "metadata": {},
   "source": [
    "# game logic"
   ]
  },
  {
   "cell_type": "code",
   "execution_count": 51,
   "metadata": {},
   "outputs": [],
   "source": [
    "# 1 is white\n",
    "# 2 is black\n",
    "\n",
    "# n: size of board (nxn), n even\n",
    "def createBoard(n:int = 8):\n",
    "    if n % 2 != 0: return None # n should be even\n",
    "    board = np.zeros([n, n])\n",
    "    board[n//2 - 1, n//2 - 1] = 1\n",
    "    board[n//2, n//2 - 1] = 2\n",
    "    board[n//2 - 1, n//2] = 2\n",
    "    board[n//2, n//2] = 1\n",
    "    return board\n",
    "\n",
    "def printBoard(board: np.array):\n",
    "    for row, rownr in zip(board,range(len(board))):\n",
    "        print(rownr, end=\"\\t\")\n",
    "        for val in row:\n",
    "            print(int(val), end=\" \")\n",
    "        print()\n",
    "    print(\"\\n\\t\", end=\"\")\n",
    "    for colnr in range(len(board)): print(int(colnr), end=\" \")\n",
    "    print()    \n",
    "\n",
    "directions = [[1, 0],\n",
    "              [1, 1],\n",
    "              [0, 1],\n",
    "              [-1, 1],\n",
    "              [-1, 0],\n",
    "              [-1, -1],\n",
    "              [0, -1],\n",
    "              [1, -1]]\n",
    "# board: current game board\n",
    "# location: tuple (row, column) where user want to play\n",
    "# player: 1 white player/ 2 black player\n",
    "# returns: if move was succesfull, list of list of directions where it is legal\n",
    "def checkLegalMove(board: np.array, location:tuple, player: int):\n",
    "    #first check if move is legal\n",
    "    if board.item(location) != 0: return False, []\n",
    "    n = len(board)\n",
    "    player2 = (player % 2) + 1\n",
    "    legal = False\n",
    "    legal_directions = []\n",
    "    for direction in directions:\n",
    "        new_x = location[0] + direction[0]\n",
    "        new_y = location[1] + direction[1]\n",
    "        found_player2 = False # check wether there is a player2 coin\n",
    "        found_player_after_player2 = False # check wether there is an \"ending\" coin of player1\n",
    "        while new_x >= 0 and new_x < n and new_y >= 0 and new_y < n:\n",
    "            coin = board[new_x, new_y]\n",
    "            if coin == 0: break\n",
    "            if coin == player2: found_player2 = True\n",
    "            if coin == player and found_player2:\n",
    "                found_player_after_player2 = True\n",
    "                legal = True\n",
    "                legal_directions.append(direction)\n",
    "                break\n",
    "            new_x += direction[0]\n",
    "            new_y += direction[1]\n",
    "    return legal, legal_directions\n",
    "\n",
    "def makeMove(board: np.array, location: tuple, legal_directions: list, player: int):\n",
    "    player2 = (player % 2) + 1\n",
    "    n = len(board)\n",
    "    board[location[0], location[1]] = player\n",
    "    for direction in legal_directions:\n",
    "        new_x = location[0] + direction[0]\n",
    "        new_y = location[1] + direction[1]\n",
    "        while new_x >= 0 and new_x < n and new_y >= 0 and new_y < n:\n",
    "            coin = board[new_x, new_y]\n",
    "            if coin == player: break #equals to 0 should not happen\n",
    "            if coin == player2: board[new_x, new_y] = player\n",
    "            new_x += direction[0]\n",
    "            new_y += direction[1]\n",
    "    return True\n",
    "\n",
    "def findAllPossibilities(board: np.array, player: int):\n",
    "    possiblities = {}\n",
    "    for x in range(len(board)):\n",
    "        for y in range(len(board)):\n",
    "            legal, legal_dir = checkLegalMove(board, (x,y), player)\n",
    "            if legal: possibilities[(x,y)] = legal_dir\n",
    "    return possiblities\n",
    "\n",
    "# state given back after each call\n",
    "# move wanted move when given the state\n",
    "# state: dict with:\n",
    "#    \"board\": for the board game itself\n",
    "#    \"cur_player\": for the player that should play next\n",
    "#    \"possibilities\": for the possibilites the player can do\n",
    "#    \"winner\": 0 if game is ongoing, 1 if winner is white, 2 if winner is black, 3 if it is a draw\n",
    "def PlayGame(state:dict = None, move:tuple = None):\n",
    "    if state == None:\n",
    "        board = creatBoard()\n",
    "        cur_player = 1\n",
    "        state = {\"board\": board, \"cur_player\": cur_player}\n",
    "        \n",
    "        possibilities = findAllPossibilities(board, cur_player)\n",
    "        state[\"possibilities\"] =  possibilities\n",
    "        state[\"winner\"] = 0\n",
    "        return state\n",
    "    #if state is given\n",
    "    if move == None: return state # if no move is given\n",
    "    possibilities = state[\"possibilities\"]\n",
    "    if move not in possibilities: return state #if move is not legal\n",
    "    makeMove(board, move, possiblities[move], player)\n",
    "    \n",
    "    #look for player2 moves to play next\n",
    "    player2 = (player % 2) + 1\n",
    "    player2Possiblities = findAllPossibilities(state[\"board\"], player2)\n",
    "    if len(player2Possibilites) > 0:\n",
    "        state[\"cur_player\"] = player2\n",
    "        state[\"possibilities\"] = player2Possibilities\n",
    "        return state\n",
    "    \n",
    "    #if player2 has no plays then player1 has to play again\n",
    "    playerPossiblities = findAllPossibilities(state[\"board\"], player)\n",
    "    if len(playerPossiblities) > 0:\n",
    "        state[\"possibilities\"] = playerPossiblities\n",
    "        return state\n",
    "    \n",
    "    #if no player can play -> game has ended\n",
    "    coins, number = np.unique(state[\"board\"], return_counts=True)\n",
    "    final_count = dict(zip(coins, number))\n",
    "    coins1 = final_count[1]\n",
    "    conis2 = final_count[2]\n",
    "    if coins1 < coins2: #black wins (2)\n",
    "        state[\"winner\"] = 2\n",
    "    elif coins2 < coins1: #white wins (1)\n",
    "        state[\"winner\"] = 1\n",
    "    else:                 # draw\n",
    "        state[\"winner\"] = 3\n",
    "    \n",
    "    "
   ]
  },
  {
   "cell_type": "code",
   "execution_count": 47,
   "metadata": {},
   "outputs": [
    {
     "name": "stdout",
     "output_type": "stream",
     "text": [
      "0\t0 0 0 0 0 0 0 0 \n",
      "1\t0 0 0 0 0 0 0 0 \n",
      "2\t0 0 0 0 0 0 0 0 \n",
      "3\t0 0 0 1 2 0 0 0 \n",
      "4\t0 0 0 2 1 0 0 0 \n",
      "5\t0 0 0 0 0 0 0 0 \n",
      "6\t0 0 0 0 0 0 0 0 \n",
      "7\t0 0 0 0 0 0 0 0 \n",
      "\n",
      "\t0 1 2 3 4 5 6 7 \n"
     ]
    }
   ],
   "source": [
    "board = createBoard(8)\n",
    "printBoard(board)"
   ]
  },
  {
   "cell_type": "code",
   "execution_count": 48,
   "metadata": {},
   "outputs": [
    {
     "name": "stdout",
     "output_type": "stream",
     "text": [
      "0\t0 0 0 0 0 0 0 0 \n",
      "1\t0 0 0 0 0 0 0 0 \n",
      "2\t0 0 0 0 1 0 0 0 \n",
      "3\t0 0 0 1 1 0 0 0 \n",
      "4\t0 0 0 2 1 0 0 0 \n",
      "5\t0 0 0 0 0 0 0 0 \n",
      "6\t0 0 0 0 0 0 0 0 \n",
      "7\t0 0 0 0 0 0 0 0 \n",
      "\n",
      "\t0 1 2 3 4 5 6 7 \n"
     ]
    }
   ],
   "source": [
    "makeMove(board, (2, 4), 1)\n",
    "printBoard(board)"
   ]
  },
  {
   "cell_type": "code",
   "execution_count": null,
   "metadata": {},
   "outputs": [],
   "source": []
  }
 ],
 "metadata": {
  "kernelspec": {
   "display_name": "Python 3",
   "language": "python",
   "name": "python3"
  },
  "language_info": {
   "codemirror_mode": {
    "name": "ipython",
    "version": 3
   },
   "file_extension": ".py",
   "mimetype": "text/x-python",
   "name": "python",
   "nbconvert_exporter": "python",
   "pygments_lexer": "ipython3",
   "version": "3.7.3"
  }
 },
 "nbformat": 4,
 "nbformat_minor": 4
}
